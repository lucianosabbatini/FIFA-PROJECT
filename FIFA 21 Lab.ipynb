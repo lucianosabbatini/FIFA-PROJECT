{
 "cells": [
  {
   "cell_type": "code",
   "execution_count": 1,
   "id": "45044206",
   "metadata": {},
   "outputs": [],
   "source": [
    "import pandas as pd\n",
    "import numpy as np"
   ]
  },
  {
   "cell_type": "code",
   "execution_count": 2,
   "id": "f608a51b",
   "metadata": {},
   "outputs": [],
   "source": [
    "data=pd.read_csv('fifa21_train.csv')"
   ]
  },
  {
   "cell_type": "code",
   "execution_count": 3,
   "id": "14c64c06",
   "metadata": {},
   "outputs": [
    {
     "data": {
      "text/plain": [
       "(11701, 101)"
      ]
     },
     "execution_count": 3,
     "metadata": {},
     "output_type": "execute_result"
    }
   ],
   "source": [
    "data.shape"
   ]
  },
  {
   "cell_type": "code",
   "execution_count": 4,
   "id": "9bb57b5a",
   "metadata": {
    "scrolled": true
   },
   "outputs": [],
   "source": [
    "#data.head()"
   ]
  },
  {
   "cell_type": "markdown",
   "id": "49cbc3f5",
   "metadata": {},
   "source": [
    "### Cleaning"
   ]
  },
  {
   "cell_type": "code",
   "execution_count": 5,
   "id": "c7f571ce",
   "metadata": {},
   "outputs": [],
   "source": [
    "#making all columns names lower case\n",
    "cols = []\n",
    "for column in data.columns:\n",
    "    cols.append(column.lower())\n",
    "cols\n",
    "data.columns = cols"
   ]
  },
  {
   "cell_type": "markdown",
   "id": "a73a136f",
   "metadata": {},
   "source": [
    "### Describing the data and understanding it"
   ]
  },
  {
   "cell_type": "code",
   "execution_count": 7,
   "id": "041ed6de",
   "metadata": {
    "scrolled": true
   },
   "outputs": [],
   "source": [
    "#data.describe().T"
   ]
  },
  {
   "cell_type": "markdown",
   "id": "31213184",
   "metadata": {},
   "source": [
    "## To calculate the Overall rating (ova), I decided to use all the numeric columns and the categoricals columns just below"
   ]
  },
  {
   "cell_type": "code",
   "execution_count": 8,
   "id": "fc02b677",
   "metadata": {
    "scrolled": true
   },
   "outputs": [],
   "source": [
    "# I am separating all the categoricals columns I want to use and clean\n",
    "df_to_clean = ['gk', 'rb', 'rcb', 'cb', 'lcb', 'lb', 'rwb', 'rdm', 'cdm', 'ldm', 'lwb', 'rm', 'rcm', 'cm', 'lcm', 'lm', 'ram', 'cam', 'lam', 'rw', 'rf', 'cf', 'lf', 'lw', 'rs', 'st', 'ls'] #ating all the categoricals columns that I want to convert into numerical that is required for the prediction model \n"
   ]
  },
  {
   "cell_type": "code",
   "execution_count": 9,
   "id": "e56cdeff",
   "metadata": {},
   "outputs": [],
   "source": [
    "#Creating a loop to go to all the columns I just assigned and find the string + and the split function to find the + sign and\n",
    "# keeping everything before the sign\n",
    "for col in df_to_clean:\n",
    "    data[col] = data[col].str.split('+').str[0]\n",
    "    data [col] = data[col].str.split('-').str[0]"
   ]
  },
  {
   "cell_type": "code",
   "execution_count": 10,
   "id": "4e75a01a",
   "metadata": {},
   "outputs": [],
   "source": [
    "#I am transforming all the columns into numeric now\n",
    "data[df_to_clean]= data[df_to_clean].apply(pd.to_numeric)"
   ]
  },
  {
   "cell_type": "code",
   "execution_count": 11,
   "id": "f976812c",
   "metadata": {},
   "outputs": [],
   "source": [
    "# Check if there is nulls\n",
    "#data[df_to_clean].isna().sum()"
   ]
  },
  {
   "cell_type": "code",
   "execution_count": 12,
   "id": "bdeb6847",
   "metadata": {},
   "outputs": [],
   "source": [
    "# Checking the other part of the numerical data\n",
    "#data.describe().T"
   ]
  },
  {
   "cell_type": "code",
   "execution_count": 13,
   "id": "9df6b27c",
   "metadata": {},
   "outputs": [],
   "source": [
    "#Also, we can drop the columns on the numeric dataset that does not affect the model\n",
    "data=data.drop(['id', 'age', 'growth'], axis=1)"
   ]
  },
  {
   "cell_type": "markdown",
   "id": "b0d5812d",
   "metadata": {},
   "source": [
    "## Checking and cleaning nulls"
   ]
  },
  {
   "cell_type": "code",
   "execution_count": 14,
   "id": "193009c8",
   "metadata": {
    "scrolled": true
   },
   "outputs": [
    {
     "data": {
      "text/plain": [
       "attacking           0\n",
       "crossing            0\n",
       "finishing           0\n",
       "heading accuracy    0\n",
       "short passing       0\n",
       "                   ..\n",
       "cb                  0\n",
       "rcb                 0\n",
       "rb                  0\n",
       "gk                  0\n",
       "ova                 0\n",
       "Length: 77, dtype: int64"
      ]
     },
     "execution_count": 14,
     "metadata": {},
     "output_type": "execute_result"
    }
   ],
   "source": [
    "#Some columns have the exact same amount of Nulls, maybe it´s easier to drop them as they represent 0.15% of the dataset\n",
    "\n",
    "data_num=data.select_dtypes(include=[np.number])\n",
    "data_num.isna().sum()"
   ]
  },
  {
   "cell_type": "code",
   "execution_count": 15,
   "id": "8f4ba464",
   "metadata": {
    "scrolled": true
   },
   "outputs": [
    {
     "name": "stdout",
     "output_type": "stream",
     "text": [
      "       volleys  curve  balance  jumping  sliding tackle  vision\n",
      "32         NaN    NaN      NaN      NaN             NaN     NaN\n",
      "44         NaN    NaN      NaN      NaN             NaN     NaN\n",
      "470        NaN    NaN      NaN      NaN             NaN     NaN\n",
      "664        NaN    NaN      NaN      NaN             NaN     NaN\n",
      "928        NaN    NaN      NaN      NaN             NaN     NaN\n",
      "1095       NaN    NaN      NaN      NaN             NaN     NaN\n",
      "1711       NaN    NaN      NaN      NaN             NaN     NaN\n",
      "1778       NaN    NaN      NaN      NaN             NaN     NaN\n",
      "1925       NaN    NaN      NaN      NaN             NaN     NaN\n",
      "2018       NaN    NaN      NaN      NaN             NaN     NaN\n",
      "2535       NaN    NaN      NaN      NaN             NaN     NaN\n",
      "2623       NaN    NaN      NaN      NaN             NaN     NaN\n",
      "2733       NaN    NaN      NaN      NaN             NaN     NaN\n",
      "2825       NaN    NaN      NaN      NaN             NaN     NaN\n",
      "3079       NaN    NaN      NaN      NaN             NaN     NaN\n",
      "3527       NaN    NaN      NaN      NaN             NaN     NaN\n",
      "3809       NaN    NaN      NaN      NaN             NaN     NaN\n",
      "3982       NaN    NaN      NaN      NaN             NaN     NaN\n",
      "4622       NaN    NaN      NaN      NaN             NaN     NaN\n",
      "5231       NaN    NaN      NaN      NaN             NaN     NaN\n",
      "5476       NaN    NaN      NaN      NaN             NaN     NaN\n",
      "5778       NaN    NaN      NaN      NaN             NaN     NaN\n",
      "5818       NaN    NaN      NaN      NaN             NaN     NaN\n",
      "6669       NaN    NaN      NaN      NaN             NaN     NaN\n",
      "7229       NaN    NaN      NaN      NaN             NaN     NaN\n",
      "7292       NaN    NaN      NaN      NaN             NaN     NaN\n",
      "8689       NaN    NaN      NaN      NaN             NaN     NaN\n",
      "8765       NaN    NaN      NaN      NaN             NaN     NaN\n",
      "8864       NaN    NaN      NaN      NaN             NaN     NaN\n",
      "9077       NaN    NaN      NaN      NaN             NaN     NaN\n",
      "9404       NaN    NaN      NaN      NaN             NaN     NaN\n",
      "9502       NaN    NaN      NaN      NaN             NaN     NaN\n",
      "9590       NaN    NaN      NaN      NaN             NaN     NaN\n",
      "10073      NaN    NaN      NaN      NaN             NaN     NaN\n",
      "10564      NaN    NaN      NaN      NaN             NaN     NaN\n",
      "11033      NaN    NaN      NaN      NaN             NaN     NaN\n",
      "11065      NaN    NaN      NaN      NaN             NaN     NaN\n",
      "11176      NaN    NaN      NaN      NaN             NaN     NaN\n",
      "11555      NaN    NaN      NaN      NaN             NaN     NaN\n",
      "11650      NaN    NaN      NaN      NaN             NaN     NaN\n",
      "11699      NaN    NaN      NaN      NaN             NaN     NaN\n"
     ]
    }
   ],
   "source": [
    "#We noticed that several columns had 41 nulls. We checked if they refered for the same rows. \n",
    "data2 = pd.DataFrame(data,columns=['volleys','curve', 'balance', 'jumping', 'sliding tackle', 'vision'])\n",
    "\n",
    "nan_values = data2[data2.isnull().any(axis=1)]\n",
    "\n",
    "print (nan_values)"
   ]
  },
  {
   "cell_type": "code",
   "execution_count": null,
   "id": "c795ea0d",
   "metadata": {},
   "outputs": [],
   "source": [
    "#data.isna().sum()"
   ]
  },
  {
   "cell_type": "code",
   "execution_count": 16,
   "id": "39158be7",
   "metadata": {},
   "outputs": [],
   "source": [
    "#Confirmed, so we are dropping\n",
    "data=data[data['volleys'].isna()==False]\n",
    "#data=data[data['curve'].isna()==False]\n",
    "#data=data[data['balance'].isna()==False]\n",
    "#data=data[data['jumping'].isna()==False]\n",
    "#data=data[data['sliding tackle'].isna()==False]\n",
    "#data=data[data['vision'].isna()==False]\n",
    "#There is no need to do line by line using this type of code"
   ]
  },
  {
   "cell_type": "code",
   "execution_count": 17,
   "id": "16cf2d8c",
   "metadata": {},
   "outputs": [],
   "source": [
    "#To fill the null of composure we use the median"
   ]
  },
  {
   "cell_type": "code",
   "execution_count": 18,
   "id": "5a9ed532",
   "metadata": {},
   "outputs": [],
   "source": [
    "data['composure'].fillna(data['composure'].median(), inplace=True)"
   ]
  },
  {
   "cell_type": "markdown",
   "id": "4b4bd0c2",
   "metadata": {},
   "source": [
    "### Concatenating the first set of numerical data with this previous one"
   ]
  },
  {
   "cell_type": "code",
   "execution_count": 19,
   "id": "a0c82e82",
   "metadata": {},
   "outputs": [],
   "source": [
    "data=pd.concat([data, data[df_to_clean]], axis=1)"
   ]
  },
  {
   "cell_type": "markdown",
   "id": "c2d0c7eb",
   "metadata": {},
   "source": [
    "### Checking if they are all numerical and added as such"
   ]
  },
  {
   "cell_type": "code",
   "execution_count": 20,
   "id": "2bf92da2",
   "metadata": {},
   "outputs": [],
   "source": [
    "data=data.select_dtypes(include=np.number)\n"
   ]
  },
  {
   "cell_type": "markdown",
   "id": "9a8e2e40",
   "metadata": {},
   "source": [
    "## X-y Split"
   ]
  },
  {
   "cell_type": "code",
   "execution_count": 21,
   "id": "f86fce75",
   "metadata": {},
   "outputs": [],
   "source": [
    "X_num = data"
   ]
  },
  {
   "cell_type": "code",
   "execution_count": 22,
   "id": "d9bad44a",
   "metadata": {},
   "outputs": [],
   "source": [
    "#OneHot enconding\n",
    "from sklearn.preprocessing import MinMaxScaler"
   ]
  },
  {
   "cell_type": "code",
   "execution_count": 23,
   "id": "06e4ec05",
   "metadata": {},
   "outputs": [],
   "source": [
    "y=data['ova']\n",
    "X = X_num.drop(['ova'], axis=1)\n"
   ]
  },
  {
   "cell_type": "markdown",
   "id": "e75d9734",
   "metadata": {},
   "source": [
    "### Normalizing"
   ]
  },
  {
   "cell_type": "code",
   "execution_count": 24,
   "id": "799f2f88",
   "metadata": {},
   "outputs": [],
   "source": [
    "import pickle "
   ]
  },
  {
   "cell_type": "code",
   "execution_count": 25,
   "id": "2dbbf96f",
   "metadata": {},
   "outputs": [
    {
     "name": "stdout",
     "output_type": "stream",
     "text": [
      "(11660, 103)\n"
     ]
    }
   ],
   "source": [
    "from sklearn.preprocessing import MinMaxScaler\n",
    "transformer = MinMaxScaler().fit(X)\n",
    "x_normalized = transformer.transform(X)\n",
    "print(x_normalized.shape)\n",
    "x_normalized\n",
    "data=pd.DataFrame(x_normalized, columns=X.columns)"
   ]
  },
  {
   "cell_type": "markdown",
   "id": "85506c98",
   "metadata": {},
   "source": [
    "### Trains-Testing"
   ]
  },
  {
   "cell_type": "code",
   "execution_count": 26,
   "id": "1c8e9ecb",
   "metadata": {},
   "outputs": [],
   "source": [
    "from sklearn.model_selection import train_test_split"
   ]
  },
  {
   "cell_type": "code",
   "execution_count": 27,
   "id": "9367c981",
   "metadata": {},
   "outputs": [],
   "source": [
    "X_train, X_test, y_train, y_test = train_test_split(X, y, test_size=0.2)"
   ]
  },
  {
   "cell_type": "code",
   "execution_count": 28,
   "id": "2ae6ee97",
   "metadata": {},
   "outputs": [
    {
     "name": "stdout",
     "output_type": "stream",
     "text": [
      "(9328, 103)\n",
      "(2332, 103)\n",
      "(9328,)\n",
      "(2332,)\n"
     ]
    }
   ],
   "source": [
    "print(X_train.shape)\n",
    "print(X_test.shape)\n",
    "print(y_train.shape)\n",
    "print(y_test.shape)"
   ]
  },
  {
   "cell_type": "code",
   "execution_count": 29,
   "id": "3e951fdb",
   "metadata": {},
   "outputs": [
    {
     "data": {
      "text/html": [
       "<div>\n",
       "<style scoped>\n",
       "    .dataframe tbody tr th:only-of-type {\n",
       "        vertical-align: middle;\n",
       "    }\n",
       "\n",
       "    .dataframe tbody tr th {\n",
       "        vertical-align: top;\n",
       "    }\n",
       "\n",
       "    .dataframe thead th {\n",
       "        text-align: right;\n",
       "    }\n",
       "</style>\n",
       "<table border=\"1\" class=\"dataframe\">\n",
       "  <thead>\n",
       "    <tr style=\"text-align: right;\">\n",
       "      <th></th>\n",
       "      <th>attacking</th>\n",
       "      <th>crossing</th>\n",
       "      <th>finishing</th>\n",
       "      <th>heading accuracy</th>\n",
       "      <th>short passing</th>\n",
       "      <th>volleys</th>\n",
       "      <th>skill</th>\n",
       "      <th>dribbling</th>\n",
       "      <th>curve</th>\n",
       "      <th>fk accuracy</th>\n",
       "      <th>...</th>\n",
       "      <th>cam</th>\n",
       "      <th>lam</th>\n",
       "      <th>rw</th>\n",
       "      <th>rf</th>\n",
       "      <th>cf</th>\n",
       "      <th>lf</th>\n",
       "      <th>lw</th>\n",
       "      <th>rs</th>\n",
       "      <th>st</th>\n",
       "      <th>ls</th>\n",
       "    </tr>\n",
       "  </thead>\n",
       "  <tbody>\n",
       "    <tr>\n",
       "      <th>0</th>\n",
       "      <td>0.546835</td>\n",
       "      <td>0.545455</td>\n",
       "      <td>0.478261</td>\n",
       "      <td>0.431818</td>\n",
       "      <td>0.710843</td>\n",
       "      <td>0.465116</td>\n",
       "      <td>0.569087</td>\n",
       "      <td>0.615385</td>\n",
       "      <td>0.444444</td>\n",
       "      <td>0.561798</td>\n",
       "      <td>...</td>\n",
       "      <td>0.610390</td>\n",
       "      <td>0.610390</td>\n",
       "      <td>0.602564</td>\n",
       "      <td>0.602564</td>\n",
       "      <td>0.602564</td>\n",
       "      <td>0.602564</td>\n",
       "      <td>0.602564</td>\n",
       "      <td>0.565789</td>\n",
       "      <td>0.565789</td>\n",
       "      <td>0.565789</td>\n",
       "    </tr>\n",
       "    <tr>\n",
       "      <th>1</th>\n",
       "      <td>0.817722</td>\n",
       "      <td>0.681818</td>\n",
       "      <td>0.826087</td>\n",
       "      <td>0.806818</td>\n",
       "      <td>0.686747</td>\n",
       "      <td>0.837209</td>\n",
       "      <td>0.777518</td>\n",
       "      <td>0.857143</td>\n",
       "      <td>0.822222</td>\n",
       "      <td>0.752809</td>\n",
       "      <td>...</td>\n",
       "      <td>0.779221</td>\n",
       "      <td>0.779221</td>\n",
       "      <td>0.807692</td>\n",
       "      <td>0.794872</td>\n",
       "      <td>0.794872</td>\n",
       "      <td>0.794872</td>\n",
       "      <td>0.807692</td>\n",
       "      <td>0.815789</td>\n",
       "      <td>0.815789</td>\n",
       "      <td>0.815789</td>\n",
       "    </tr>\n",
       "    <tr>\n",
       "      <th>2</th>\n",
       "      <td>0.744304</td>\n",
       "      <td>0.761364</td>\n",
       "      <td>0.793478</td>\n",
       "      <td>0.329545</td>\n",
       "      <td>0.807229</td>\n",
       "      <td>0.825581</td>\n",
       "      <td>0.892272</td>\n",
       "      <td>0.879121</td>\n",
       "      <td>0.944444</td>\n",
       "      <td>0.966292</td>\n",
       "      <td>...</td>\n",
       "      <td>0.831169</td>\n",
       "      <td>0.831169</td>\n",
       "      <td>0.846154</td>\n",
       "      <td>0.820513</td>\n",
       "      <td>0.820513</td>\n",
       "      <td>0.820513</td>\n",
       "      <td>0.846154</td>\n",
       "      <td>0.763158</td>\n",
       "      <td>0.763158</td>\n",
       "      <td>0.763158</td>\n",
       "    </tr>\n",
       "    <tr>\n",
       "      <th>3</th>\n",
       "      <td>0.506329</td>\n",
       "      <td>0.431818</td>\n",
       "      <td>0.423913</td>\n",
       "      <td>0.602273</td>\n",
       "      <td>0.614458</td>\n",
       "      <td>0.372093</td>\n",
       "      <td>0.505855</td>\n",
       "      <td>0.538462</td>\n",
       "      <td>0.411111</td>\n",
       "      <td>0.460674</td>\n",
       "      <td>...</td>\n",
       "      <td>0.480519</td>\n",
       "      <td>0.480519</td>\n",
       "      <td>0.474359</td>\n",
       "      <td>0.461538</td>\n",
       "      <td>0.461538</td>\n",
       "      <td>0.461538</td>\n",
       "      <td>0.474359</td>\n",
       "      <td>0.460526</td>\n",
       "      <td>0.460526</td>\n",
       "      <td>0.460526</td>\n",
       "    </tr>\n",
       "    <tr>\n",
       "      <th>4</th>\n",
       "      <td>0.524051</td>\n",
       "      <td>0.488636</td>\n",
       "      <td>0.369565</td>\n",
       "      <td>0.636364</td>\n",
       "      <td>0.686747</td>\n",
       "      <td>0.348837</td>\n",
       "      <td>0.555035</td>\n",
       "      <td>0.648352</td>\n",
       "      <td>0.444444</td>\n",
       "      <td>0.449438</td>\n",
       "      <td>...</td>\n",
       "      <td>0.584416</td>\n",
       "      <td>0.584416</td>\n",
       "      <td>0.576923</td>\n",
       "      <td>0.564103</td>\n",
       "      <td>0.564103</td>\n",
       "      <td>0.564103</td>\n",
       "      <td>0.576923</td>\n",
       "      <td>0.539474</td>\n",
       "      <td>0.539474</td>\n",
       "      <td>0.539474</td>\n",
       "    </tr>\n",
       "    <tr>\n",
       "      <th>...</th>\n",
       "      <td>...</td>\n",
       "      <td>...</td>\n",
       "      <td>...</td>\n",
       "      <td>...</td>\n",
       "      <td>...</td>\n",
       "      <td>...</td>\n",
       "      <td>...</td>\n",
       "      <td>...</td>\n",
       "      <td>...</td>\n",
       "      <td>...</td>\n",
       "      <td>...</td>\n",
       "      <td>...</td>\n",
       "      <td>...</td>\n",
       "      <td>...</td>\n",
       "      <td>...</td>\n",
       "      <td>...</td>\n",
       "      <td>...</td>\n",
       "      <td>...</td>\n",
       "      <td>...</td>\n",
       "      <td>...</td>\n",
       "      <td>...</td>\n",
       "    </tr>\n",
       "    <tr>\n",
       "      <th>11655</th>\n",
       "      <td>0.627848</td>\n",
       "      <td>0.340909</td>\n",
       "      <td>0.750000</td>\n",
       "      <td>0.681818</td>\n",
       "      <td>0.554217</td>\n",
       "      <td>0.651163</td>\n",
       "      <td>0.562061</td>\n",
       "      <td>0.626374</td>\n",
       "      <td>0.577778</td>\n",
       "      <td>0.573034</td>\n",
       "      <td>...</td>\n",
       "      <td>0.571429</td>\n",
       "      <td>0.571429</td>\n",
       "      <td>0.602564</td>\n",
       "      <td>0.615385</td>\n",
       "      <td>0.615385</td>\n",
       "      <td>0.615385</td>\n",
       "      <td>0.602564</td>\n",
       "      <td>0.657895</td>\n",
       "      <td>0.657895</td>\n",
       "      <td>0.657895</td>\n",
       "    </tr>\n",
       "    <tr>\n",
       "      <th>11656</th>\n",
       "      <td>0.460759</td>\n",
       "      <td>0.636364</td>\n",
       "      <td>0.228261</td>\n",
       "      <td>0.522727</td>\n",
       "      <td>0.578313</td>\n",
       "      <td>0.279070</td>\n",
       "      <td>0.480094</td>\n",
       "      <td>0.571429</td>\n",
       "      <td>0.500000</td>\n",
       "      <td>0.269663</td>\n",
       "      <td>...</td>\n",
       "      <td>0.493506</td>\n",
       "      <td>0.493506</td>\n",
       "      <td>0.525641</td>\n",
       "      <td>0.474359</td>\n",
       "      <td>0.474359</td>\n",
       "      <td>0.474359</td>\n",
       "      <td>0.525641</td>\n",
       "      <td>0.434211</td>\n",
       "      <td>0.434211</td>\n",
       "      <td>0.434211</td>\n",
       "    </tr>\n",
       "    <tr>\n",
       "      <th>11657</th>\n",
       "      <td>0.106329</td>\n",
       "      <td>0.068182</td>\n",
       "      <td>0.119565</td>\n",
       "      <td>0.090909</td>\n",
       "      <td>0.216867</td>\n",
       "      <td>0.139535</td>\n",
       "      <td>0.124122</td>\n",
       "      <td>0.131868</td>\n",
       "      <td>0.122222</td>\n",
       "      <td>0.157303</td>\n",
       "      <td>...</td>\n",
       "      <td>0.103896</td>\n",
       "      <td>0.103896</td>\n",
       "      <td>0.128205</td>\n",
       "      <td>0.141026</td>\n",
       "      <td>0.141026</td>\n",
       "      <td>0.141026</td>\n",
       "      <td>0.128205</td>\n",
       "      <td>0.171053</td>\n",
       "      <td>0.171053</td>\n",
       "      <td>0.171053</td>\n",
       "    </tr>\n",
       "    <tr>\n",
       "      <th>11658</th>\n",
       "      <td>0.617722</td>\n",
       "      <td>0.659091</td>\n",
       "      <td>0.684783</td>\n",
       "      <td>0.522727</td>\n",
       "      <td>0.638554</td>\n",
       "      <td>0.430233</td>\n",
       "      <td>0.580796</td>\n",
       "      <td>0.725275</td>\n",
       "      <td>0.588889</td>\n",
       "      <td>0.370787</td>\n",
       "      <td>...</td>\n",
       "      <td>0.636364</td>\n",
       "      <td>0.636364</td>\n",
       "      <td>0.679487</td>\n",
       "      <td>0.641026</td>\n",
       "      <td>0.641026</td>\n",
       "      <td>0.641026</td>\n",
       "      <td>0.679487</td>\n",
       "      <td>0.618421</td>\n",
       "      <td>0.618421</td>\n",
       "      <td>0.618421</td>\n",
       "    </tr>\n",
       "    <tr>\n",
       "      <th>11659</th>\n",
       "      <td>0.625316</td>\n",
       "      <td>0.420455</td>\n",
       "      <td>0.663043</td>\n",
       "      <td>0.681818</td>\n",
       "      <td>0.638554</td>\n",
       "      <td>0.569767</td>\n",
       "      <td>0.524590</td>\n",
       "      <td>0.648352</td>\n",
       "      <td>0.411111</td>\n",
       "      <td>0.426966</td>\n",
       "      <td>...</td>\n",
       "      <td>0.636364</td>\n",
       "      <td>0.636364</td>\n",
       "      <td>0.653846</td>\n",
       "      <td>0.641026</td>\n",
       "      <td>0.641026</td>\n",
       "      <td>0.641026</td>\n",
       "      <td>0.653846</td>\n",
       "      <td>0.644737</td>\n",
       "      <td>0.644737</td>\n",
       "      <td>0.644737</td>\n",
       "    </tr>\n",
       "  </tbody>\n",
       "</table>\n",
       "<p>11660 rows × 103 columns</p>\n",
       "</div>"
      ],
      "text/plain": [
       "       attacking  crossing  finishing  heading accuracy  short passing  \\\n",
       "0       0.546835  0.545455   0.478261          0.431818       0.710843   \n",
       "1       0.817722  0.681818   0.826087          0.806818       0.686747   \n",
       "2       0.744304  0.761364   0.793478          0.329545       0.807229   \n",
       "3       0.506329  0.431818   0.423913          0.602273       0.614458   \n",
       "4       0.524051  0.488636   0.369565          0.636364       0.686747   \n",
       "...          ...       ...        ...               ...            ...   \n",
       "11655   0.627848  0.340909   0.750000          0.681818       0.554217   \n",
       "11656   0.460759  0.636364   0.228261          0.522727       0.578313   \n",
       "11657   0.106329  0.068182   0.119565          0.090909       0.216867   \n",
       "11658   0.617722  0.659091   0.684783          0.522727       0.638554   \n",
       "11659   0.625316  0.420455   0.663043          0.681818       0.638554   \n",
       "\n",
       "        volleys     skill  dribbling     curve  fk accuracy  ...       cam  \\\n",
       "0      0.465116  0.569087   0.615385  0.444444     0.561798  ...  0.610390   \n",
       "1      0.837209  0.777518   0.857143  0.822222     0.752809  ...  0.779221   \n",
       "2      0.825581  0.892272   0.879121  0.944444     0.966292  ...  0.831169   \n",
       "3      0.372093  0.505855   0.538462  0.411111     0.460674  ...  0.480519   \n",
       "4      0.348837  0.555035   0.648352  0.444444     0.449438  ...  0.584416   \n",
       "...         ...       ...        ...       ...          ...  ...       ...   \n",
       "11655  0.651163  0.562061   0.626374  0.577778     0.573034  ...  0.571429   \n",
       "11656  0.279070  0.480094   0.571429  0.500000     0.269663  ...  0.493506   \n",
       "11657  0.139535  0.124122   0.131868  0.122222     0.157303  ...  0.103896   \n",
       "11658  0.430233  0.580796   0.725275  0.588889     0.370787  ...  0.636364   \n",
       "11659  0.569767  0.524590   0.648352  0.411111     0.426966  ...  0.636364   \n",
       "\n",
       "            lam        rw        rf        cf        lf        lw        rs  \\\n",
       "0      0.610390  0.602564  0.602564  0.602564  0.602564  0.602564  0.565789   \n",
       "1      0.779221  0.807692  0.794872  0.794872  0.794872  0.807692  0.815789   \n",
       "2      0.831169  0.846154  0.820513  0.820513  0.820513  0.846154  0.763158   \n",
       "3      0.480519  0.474359  0.461538  0.461538  0.461538  0.474359  0.460526   \n",
       "4      0.584416  0.576923  0.564103  0.564103  0.564103  0.576923  0.539474   \n",
       "...         ...       ...       ...       ...       ...       ...       ...   \n",
       "11655  0.571429  0.602564  0.615385  0.615385  0.615385  0.602564  0.657895   \n",
       "11656  0.493506  0.525641  0.474359  0.474359  0.474359  0.525641  0.434211   \n",
       "11657  0.103896  0.128205  0.141026  0.141026  0.141026  0.128205  0.171053   \n",
       "11658  0.636364  0.679487  0.641026  0.641026  0.641026  0.679487  0.618421   \n",
       "11659  0.636364  0.653846  0.641026  0.641026  0.641026  0.653846  0.644737   \n",
       "\n",
       "             st        ls  \n",
       "0      0.565789  0.565789  \n",
       "1      0.815789  0.815789  \n",
       "2      0.763158  0.763158  \n",
       "3      0.460526  0.460526  \n",
       "4      0.539474  0.539474  \n",
       "...         ...       ...  \n",
       "11655  0.657895  0.657895  \n",
       "11656  0.434211  0.434211  \n",
       "11657  0.171053  0.171053  \n",
       "11658  0.618421  0.618421  \n",
       "11659  0.644737  0.644737  \n",
       "\n",
       "[11660 rows x 103 columns]"
      ]
     },
     "execution_count": 29,
     "metadata": {},
     "output_type": "execute_result"
    }
   ],
   "source": [
    "data.select_dtypes(include=[np.number])"
   ]
  },
  {
   "cell_type": "markdown",
   "id": "dcc5101b",
   "metadata": {},
   "source": [
    "### Applying model"
   ]
  },
  {
   "cell_type": "code",
   "execution_count": 30,
   "id": "855c01e7",
   "metadata": {},
   "outputs": [],
   "source": [
    "from sklearn import linear_model"
   ]
  },
  {
   "cell_type": "code",
   "execution_count": 31,
   "id": "583af292",
   "metadata": {},
   "outputs": [
    {
     "data": {
      "text/plain": [
       "LinearRegression()"
      ]
     },
     "execution_count": 31,
     "metadata": {},
     "output_type": "execute_result"
    }
   ],
   "source": [
    "lm = linear_model.LinearRegression()\n",
    "lm.fit(X_train,y_train)"
   ]
  },
  {
   "cell_type": "markdown",
   "id": "540b8ac8",
   "metadata": {},
   "source": [
    "### Validating the model"
   ]
  },
  {
   "cell_type": "code",
   "execution_count": 32,
   "id": "e37a7aed",
   "metadata": {},
   "outputs": [
    {
     "data": {
      "text/plain": [
       "0.891501886993226"
      ]
     },
     "execution_count": 32,
     "metadata": {},
     "output_type": "execute_result"
    }
   ],
   "source": [
    "from sklearn.metrics import r2_score  \n",
    "predictions = lm.predict(X_train)\n",
    "r2_score(y_train, predictions)"
   ]
  },
  {
   "cell_type": "code",
   "execution_count": 33,
   "id": "6b208ca3",
   "metadata": {},
   "outputs": [
    {
     "data": {
      "text/plain": [
       "0.8907270981084208"
      ]
     },
     "execution_count": 33,
     "metadata": {},
     "output_type": "execute_result"
    }
   ],
   "source": [
    "predictions_test = lm.predict(X_test)\n",
    "r2_score(y_test, predictions_test)"
   ]
  },
  {
   "cell_type": "code",
   "execution_count": 34,
   "id": "60f7e8c2",
   "metadata": {},
   "outputs": [
    {
     "data": {
      "text/plain": [
       "6387     78\n",
       "1857     60\n",
       "10307    74\n",
       "2338     60\n",
       "2108     69\n",
       "Name: ova, dtype: int64"
      ]
     },
     "execution_count": 34,
     "metadata": {},
     "output_type": "execute_result"
    }
   ],
   "source": [
    "y_test[:5]"
   ]
  },
  {
   "cell_type": "code",
   "execution_count": 35,
   "id": "65ae4c35",
   "metadata": {},
   "outputs": [
    {
     "data": {
      "text/plain": [
       "array([73.96595182, 59.21271926, 72.30597153, 63.1398871 , 66.51135459])"
      ]
     },
     "execution_count": 35,
     "metadata": {},
     "output_type": "execute_result"
    }
   ],
   "source": [
    "predictions_test[:5]"
   ]
  },
  {
   "cell_type": "code",
   "execution_count": 36,
   "id": "1ffa772c",
   "metadata": {},
   "outputs": [
    {
     "data": {
      "text/plain": [
       "5.134789142834817"
      ]
     },
     "execution_count": 36,
     "metadata": {},
     "output_type": "execute_result"
    }
   ],
   "source": [
    "from sklearn.metrics import mean_squared_error\n",
    "#Calculating MSE\n",
    "mse=mean_squared_error(y_test,predictions_test)\n",
    "mse"
   ]
  },
  {
   "cell_type": "code",
   "execution_count": 37,
   "id": "b27da6b7",
   "metadata": {},
   "outputs": [
    {
     "data": {
      "text/plain": [
       "2.266007313058547"
      ]
     },
     "execution_count": 37,
     "metadata": {},
     "output_type": "execute_result"
    }
   ],
   "source": [
    "#Calculating RMSE\n",
    "rmse = np.sqrt(mean_squared_error(y_test,predictions_test))  \n",
    "rmse"
   ]
  },
  {
   "cell_type": "code",
   "execution_count": 38,
   "id": "0a00a431",
   "metadata": {},
   "outputs": [],
   "source": [
    "# saving \n",
    "import pickle\n",
    "pickle.dump(transformer, open('minmaxtransformer.p', 'wb'))\n",
    "pickle.dump(lm, open('model.p', 'wb'))"
   ]
  },
  {
   "cell_type": "code",
   "execution_count": null,
   "id": "65be5ab2",
   "metadata": {},
   "outputs": [],
   "source": []
  }
 ],
 "metadata": {
  "kernelspec": {
   "display_name": "Python 3 (ipykernel)",
   "language": "python",
   "name": "python3"
  },
  "language_info": {
   "codemirror_mode": {
    "name": "ipython",
    "version": 3
   },
   "file_extension": ".py",
   "mimetype": "text/x-python",
   "name": "python",
   "nbconvert_exporter": "python",
   "pygments_lexer": "ipython3",
   "version": "3.9.13"
  }
 },
 "nbformat": 4,
 "nbformat_minor": 5
}
