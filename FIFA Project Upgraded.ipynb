{
 "cells": [
  {
   "cell_type": "code",
   "execution_count": 1,
   "id": "10542377",
   "metadata": {},
   "outputs": [],
   "source": [
    "import pandas as pd\n",
    "import numpy as np"
   ]
  },
  {
   "cell_type": "code",
   "execution_count": 2,
   "id": "18234e63",
   "metadata": {},
   "outputs": [],
   "source": [
    "df=pd.read_csv('fifa21_train.csv')"
   ]
  },
  {
   "cell_type": "markdown",
   "id": "d16c675e",
   "metadata": {},
   "source": [
    "### Cleaning "
   ]
  },
  {
   "cell_type": "code",
   "execution_count": 3,
   "id": "56f5d79d",
   "metadata": {
    "scrolled": true
   },
   "outputs": [
    {
     "name": "stdout",
     "output_type": "stream",
     "text": [
      "['ID', 'Name', 'Age', 'Nationality', 'Club', 'BP', 'Position', 'Team & Contract', 'Height', 'Weight', 'foot', 'Growth', 'Joined', 'Loan Date End', 'Value', 'Wage', 'Release Clause', 'Contract', 'Attacking', 'Crossing', 'Finishing', 'Heading Accuracy', 'Short Passing', 'Volleys', 'Skill', 'Dribbling', 'Curve', 'FK Accuracy', 'Long Passing', 'Ball Control', 'Movement', 'Acceleration', 'Sprint Speed', 'Agility', 'Reactions', 'Balance', 'Power', 'Shot Power', 'Jumping', 'Stamina', 'Strength', 'Long Shots', 'Mentality', 'Aggression', 'Interceptions', 'Positioning', 'Vision', 'Penalties', 'Composure', 'Defending', 'Marking', 'Standing Tackle', 'Sliding Tackle', 'Goalkeeping', 'GK Diving', 'GK Handling', 'GK Kicking', 'GK Positioning', 'GK Reflexes', 'Total Stats', 'Base Stats', 'W/F', 'SM', 'A/W', 'D/W', 'IR', 'PAC', 'SHO', 'PAS', 'DRI', 'DEF', 'PHY', 'Hits', 'LS', 'ST', 'RS', 'LW', 'LF', 'CF', 'RF', 'RW', 'LAM', 'CAM', 'RAM', 'LM', 'LCM', 'CM', 'RCM', 'RM', 'LWB', 'LDM', 'CDM', 'RDM', 'RWB', 'LB', 'LCB', 'CB', 'RCB', 'RB', 'GK', 'OVA']\n"
     ]
    }
   ],
   "source": [
    "print(df.columns.tolist())"
   ]
  },
  {
   "cell_type": "markdown",
   "id": "0f734658",
   "metadata": {},
   "source": [
    "#### Removing Nulls from several columns"
   ]
  },
  {
   "cell_type": "code",
   "execution_count": 4,
   "id": "5480fe9b",
   "metadata": {},
   "outputs": [],
   "source": [
    "df = df[df[['A/W', 'D/W']].isna().any(axis=1) == False]\n"
   ]
  },
  {
   "cell_type": "markdown",
   "id": "984f42dd",
   "metadata": {},
   "source": [
    "#### Function to group values in column 'Positions' in less features to have better Onehot enconder results"
   ]
  },
  {
   "cell_type": "code",
   "execution_count": 5,
   "id": "a952966e",
   "metadata": {},
   "outputs": [],
   "source": [
    "def cleanOperation(x):\n",
    "    x = x.lower()\n",
    "    if 'cb' in x or 'rb' in x or 'lb' in x:  # check for each value separately\n",
    "        return \"defender\"\n",
    "    elif 'cm' in x or 'cam' in x or 'cdm' in x or 'lm' in x or 'rm' in x or 'lwb' in x or 'rwb' in x:\n",
    "        return \"midfielder\"\n",
    "    elif 'st' in x or 'rw' in x or 'lw' in x or 'cf' in x:\n",
    "        return 'forward'\n",
    "    else:\n",
    "        return 'goalkeeper'\n",
    "df['BP'] = df['BP'].apply(cleanOperation)"
   ]
  },
  {
   "cell_type": "markdown",
   "id": "ba7dcbdb",
   "metadata": {},
   "source": [
    "#### Removing strings and transforming it to numeric"
   ]
  },
  {
   "cell_type": "code",
   "execution_count": 6,
   "id": "264dac33",
   "metadata": {},
   "outputs": [],
   "source": [
    "df['IR']=df['IR'].str.replace('★','')\n",
    "df['W/F']=df['W/F'].str.replace('★','')\n",
    "df['SM']=df['SM'].str.replace('★','')\n"
   ]
  },
  {
   "cell_type": "code",
   "execution_count": 7,
   "id": "64a1028a",
   "metadata": {},
   "outputs": [],
   "source": [
    "df['IR']=df['IR'].astype(int)\n",
    "df['W/F']=df['W/F'].astype(int)\n",
    "df['SM']=df['SM'].astype(int)"
   ]
  },
  {
   "cell_type": "markdown",
   "id": "4ccca940",
   "metadata": {},
   "source": [
    "#### Removing strings and making columns numeric with the rigth amount value"
   ]
  },
  {
   "cell_type": "code",
   "execution_count": 8,
   "id": "cf8f1258",
   "metadata": {},
   "outputs": [],
   "source": [
    "df.loc[df['Hits'].str.endswith('K') & ~df['Hits'].isnull(), 'Hits'] = df.loc[df['Hits'].str.endswith('K') & ~df['Hits'].isnull(), 'Hits'].str.replace('K', '').astype(float) * 1000\n",
    "df['Hits'] = df['Hits'].astype(int)"
   ]
  },
  {
   "cell_type": "code",
   "execution_count": 9,
   "id": "4cb98dcd",
   "metadata": {},
   "outputs": [],
   "source": [
    "#df['Hits'].unique()"
   ]
  },
  {
   "cell_type": "code",
   "execution_count": 10,
   "id": "9e5eb558",
   "metadata": {
    "scrolled": false
   },
   "outputs": [],
   "source": [
    "#print(df.columns.tolist())"
   ]
  },
  {
   "cell_type": "code",
   "execution_count": 11,
   "id": "0fd197cd",
   "metadata": {},
   "outputs": [],
   "source": [
    "df['Value'] = df['Value'].str.replace('€', '')\n",
    "df.loc[df['Value'].str.endswith('M') & ~df['Value'].isnull(), 'Value'] = df.loc[df['Value'].str.endswith('M') & ~df['Value'].isnull(), 'Value'].str.replace('M', '').astype(float) * 1000000\n",
    "df.loc[df['Value'].str.endswith('K') & ~df['Value'].isnull(), 'Value'] = df.loc[df['Value'].str.endswith('K') & ~df['Value'].isnull(), 'Value'].str.replace('K', '').astype(float) * 1000\n",
    "df['Value'] = df['Value'].astype(int)"
   ]
  },
  {
   "cell_type": "code",
   "execution_count": 12,
   "id": "748c3e8c",
   "metadata": {},
   "outputs": [],
   "source": [
    "#print(df.columns.tolist())\n"
   ]
  },
  {
   "cell_type": "markdown",
   "id": "ee27883e",
   "metadata": {},
   "source": [
    "#### Function to clean data the remaining data"
   ]
  },
  {
   "cell_type": "code",
   "execution_count": 13,
   "id": "9065cb08",
   "metadata": {},
   "outputs": [],
   "source": [
    "def clean_data(df):\n",
    "    cols = [] # Making all columns lower case\n",
    "    for column in df.columns:\n",
    "        cols.append(column.lower())\n",
    "    cols\n",
    "    df.columns = cols \n",
    "    df=df.drop(['id', 'name', 'age', 'nationality', 'club', 'position', 'team & contract', 'height', 'weight', 'joined', 'loan date end', 'wage', 'release clause', 'contract'], axis=1) # droping irrelevant columns\n",
    "    df['composure'].fillna(df['composure'].median(), inplace=True)\n",
    "    df_to_clean = ['gk', 'rb', 'rcb', 'cb', 'lcb', 'lb', 'rwb', 'rdm', 'cdm', 'ldm', 'lwb', 'rm', 'rcm', 'cm', 'lcm', 'lm', 'ram', 'cam', 'lam', 'rw', 'rf', 'cf', 'lf', 'lw', 'rs', 'st', 'ls'] #ating all the categoricals columns that I want to convert into numerical that is required for the prediction model \n",
    "    for col in df_to_clean:\n",
    "        df[col] = df[col].str.split('+').str[0]\n",
    "        df[col] = df[col].str.split('-').str[0]\n",
    "    df[df_to_clean]= df[df_to_clean].apply(pd.to_numeric)\n",
    "    df=pd.concat([df, df[df_to_clean]], axis=1)\n",
    "    #df_cat=df.select_dtypes(include=[np.object])\n",
    "     # attributing all the cleaned data and only the numerical columns to a variable\n",
    "    \n",
    "    return df"
   ]
  },
  {
   "cell_type": "code",
   "execution_count": 14,
   "id": "08ba8772",
   "metadata": {},
   "outputs": [],
   "source": [
    "df=clean_data(df)"
   ]
  },
  {
   "cell_type": "code",
   "execution_count": 15,
   "id": "187cca04",
   "metadata": {},
   "outputs": [],
   "source": [
    "#print(df.columns.tolist())"
   ]
  },
  {
   "cell_type": "markdown",
   "id": "ab3cea19",
   "metadata": {},
   "source": [
    "#### X-y Split"
   ]
  },
  {
   "cell_type": "code",
   "execution_count": 16,
   "id": "01dd39f4",
   "metadata": {},
   "outputs": [],
   "source": [
    "y = df['ova']\n",
    "X = df.drop(['ova'], axis=1)"
   ]
  },
  {
   "cell_type": "markdown",
   "id": "0b4b0676",
   "metadata": {},
   "source": [
    "#### Onehot enconding and training the model withou bleeding"
   ]
  },
  {
   "cell_type": "code",
   "execution_count": 97,
   "id": "7f9ef27e",
   "metadata": {},
   "outputs": [],
   "source": [
    "from sklearn.model_selection import train_test_split\n",
    "X_train, X_test, y_train, y_test = train_test_split(X, y, test_size=0.25, random_state=42)"
   ]
  },
  {
   "cell_type": "code",
   "execution_count": 98,
   "id": "68d46bc9",
   "metadata": {},
   "outputs": [],
   "source": [
    "X_train_num = X_train.select_dtypes(include = np.number)\n",
    "X_test_num  = X_test.select_dtypes(include = np.number)\n",
    "X_train_cat = X_train.select_dtypes(include = object)\n",
    "X_test_cat  = X_test.select_dtypes(include = object)"
   ]
  },
  {
   "cell_type": "code",
   "execution_count": 99,
   "id": "77ac7556",
   "metadata": {},
   "outputs": [],
   "source": [
    "from sklearn.preprocessing import MinMaxScaler"
   ]
  },
  {
   "cell_type": "code",
   "execution_count": 100,
   "id": "f6a1ecf5",
   "metadata": {},
   "outputs": [
    {
     "data": {
      "text/html": [
       "<div>\n",
       "<style scoped>\n",
       "    .dataframe tbody tr th:only-of-type {\n",
       "        vertical-align: middle;\n",
       "    }\n",
       "\n",
       "    .dataframe tbody tr th {\n",
       "        vertical-align: top;\n",
       "    }\n",
       "\n",
       "    .dataframe thead th {\n",
       "        text-align: right;\n",
       "    }\n",
       "</style>\n",
       "<table border=\"1\" class=\"dataframe\">\n",
       "  <thead>\n",
       "    <tr style=\"text-align: right;\">\n",
       "      <th></th>\n",
       "      <th>growth</th>\n",
       "      <th>value</th>\n",
       "      <th>attacking</th>\n",
       "      <th>crossing</th>\n",
       "      <th>finishing</th>\n",
       "      <th>heading accuracy</th>\n",
       "      <th>short passing</th>\n",
       "      <th>volleys</th>\n",
       "      <th>skill</th>\n",
       "      <th>dribbling</th>\n",
       "      <th>...</th>\n",
       "      <th>cam</th>\n",
       "      <th>lam</th>\n",
       "      <th>rw</th>\n",
       "      <th>rf</th>\n",
       "      <th>cf</th>\n",
       "      <th>lf</th>\n",
       "      <th>lw</th>\n",
       "      <th>rs</th>\n",
       "      <th>st</th>\n",
       "      <th>ls</th>\n",
       "    </tr>\n",
       "  </thead>\n",
       "  <tbody>\n",
       "    <tr>\n",
       "      <th>0</th>\n",
       "      <td>0.730769</td>\n",
       "      <td>0.002184</td>\n",
       "      <td>0.541772</td>\n",
       "      <td>0.500000</td>\n",
       "      <td>0.586957</td>\n",
       "      <td>0.500000</td>\n",
       "      <td>0.457831</td>\n",
       "      <td>0.552941</td>\n",
       "      <td>0.522613</td>\n",
       "      <td>0.602273</td>\n",
       "      <td>...</td>\n",
       "      <td>0.520548</td>\n",
       "      <td>0.520548</td>\n",
       "      <td>0.560000</td>\n",
       "      <td>0.520000</td>\n",
       "      <td>0.520000</td>\n",
       "      <td>0.520000</td>\n",
       "      <td>0.560000</td>\n",
       "      <td>0.520000</td>\n",
       "      <td>0.520000</td>\n",
       "      <td>0.520000</td>\n",
       "    </tr>\n",
       "    <tr>\n",
       "      <th>1</th>\n",
       "      <td>0.576923</td>\n",
       "      <td>0.003736</td>\n",
       "      <td>0.496203</td>\n",
       "      <td>0.613636</td>\n",
       "      <td>0.402174</td>\n",
       "      <td>0.511364</td>\n",
       "      <td>0.506024</td>\n",
       "      <td>0.364706</td>\n",
       "      <td>0.479899</td>\n",
       "      <td>0.590909</td>\n",
       "      <td>...</td>\n",
       "      <td>0.520548</td>\n",
       "      <td>0.520548</td>\n",
       "      <td>0.573333</td>\n",
       "      <td>0.493333</td>\n",
       "      <td>0.493333</td>\n",
       "      <td>0.493333</td>\n",
       "      <td>0.573333</td>\n",
       "      <td>0.466667</td>\n",
       "      <td>0.466667</td>\n",
       "      <td>0.466667</td>\n",
       "    </tr>\n",
       "    <tr>\n",
       "      <th>2</th>\n",
       "      <td>0.038462</td>\n",
       "      <td>0.012644</td>\n",
       "      <td>0.589873</td>\n",
       "      <td>0.625000</td>\n",
       "      <td>0.565217</td>\n",
       "      <td>0.659091</td>\n",
       "      <td>0.650602</td>\n",
       "      <td>0.317647</td>\n",
       "      <td>0.603015</td>\n",
       "      <td>0.704545</td>\n",
       "      <td>...</td>\n",
       "      <td>0.684932</td>\n",
       "      <td>0.684932</td>\n",
       "      <td>0.693333</td>\n",
       "      <td>0.653333</td>\n",
       "      <td>0.653333</td>\n",
       "      <td>0.653333</td>\n",
       "      <td>0.693333</td>\n",
       "      <td>0.626667</td>\n",
       "      <td>0.626667</td>\n",
       "      <td>0.626667</td>\n",
       "    </tr>\n",
       "    <tr>\n",
       "      <th>3</th>\n",
       "      <td>0.000000</td>\n",
       "      <td>0.002184</td>\n",
       "      <td>0.706329</td>\n",
       "      <td>0.590909</td>\n",
       "      <td>0.663043</td>\n",
       "      <td>0.715909</td>\n",
       "      <td>0.650602</td>\n",
       "      <td>0.729412</td>\n",
       "      <td>0.648241</td>\n",
       "      <td>0.636364</td>\n",
       "      <td>...</td>\n",
       "      <td>0.643836</td>\n",
       "      <td>0.643836</td>\n",
       "      <td>0.640000</td>\n",
       "      <td>0.626667</td>\n",
       "      <td>0.626667</td>\n",
       "      <td>0.626667</td>\n",
       "      <td>0.640000</td>\n",
       "      <td>0.653333</td>\n",
       "      <td>0.653333</td>\n",
       "      <td>0.653333</td>\n",
       "    </tr>\n",
       "    <tr>\n",
       "      <th>4</th>\n",
       "      <td>0.153846</td>\n",
       "      <td>0.009483</td>\n",
       "      <td>0.640506</td>\n",
       "      <td>0.568182</td>\n",
       "      <td>0.630435</td>\n",
       "      <td>0.465909</td>\n",
       "      <td>0.674699</td>\n",
       "      <td>0.717647</td>\n",
       "      <td>0.718593</td>\n",
       "      <td>0.738636</td>\n",
       "      <td>...</td>\n",
       "      <td>0.684932</td>\n",
       "      <td>0.684932</td>\n",
       "      <td>0.693333</td>\n",
       "      <td>0.666667</td>\n",
       "      <td>0.666667</td>\n",
       "      <td>0.666667</td>\n",
       "      <td>0.693333</td>\n",
       "      <td>0.640000</td>\n",
       "      <td>0.640000</td>\n",
       "      <td>0.640000</td>\n",
       "    </tr>\n",
       "  </tbody>\n",
       "</table>\n",
       "<p>5 rows × 109 columns</p>\n",
       "</div>"
      ],
      "text/plain": [
       "     growth     value  attacking  crossing  finishing  heading accuracy  \\\n",
       "0  0.730769  0.002184   0.541772  0.500000   0.586957          0.500000   \n",
       "1  0.576923  0.003736   0.496203  0.613636   0.402174          0.511364   \n",
       "2  0.038462  0.012644   0.589873  0.625000   0.565217          0.659091   \n",
       "3  0.000000  0.002184   0.706329  0.590909   0.663043          0.715909   \n",
       "4  0.153846  0.009483   0.640506  0.568182   0.630435          0.465909   \n",
       "\n",
       "   short passing   volleys     skill  dribbling  ...       cam       lam  \\\n",
       "0       0.457831  0.552941  0.522613   0.602273  ...  0.520548  0.520548   \n",
       "1       0.506024  0.364706  0.479899   0.590909  ...  0.520548  0.520548   \n",
       "2       0.650602  0.317647  0.603015   0.704545  ...  0.684932  0.684932   \n",
       "3       0.650602  0.729412  0.648241   0.636364  ...  0.643836  0.643836   \n",
       "4       0.674699  0.717647  0.718593   0.738636  ...  0.684932  0.684932   \n",
       "\n",
       "         rw        rf        cf        lf        lw        rs        st  \\\n",
       "0  0.560000  0.520000  0.520000  0.520000  0.560000  0.520000  0.520000   \n",
       "1  0.573333  0.493333  0.493333  0.493333  0.573333  0.466667  0.466667   \n",
       "2  0.693333  0.653333  0.653333  0.653333  0.693333  0.626667  0.626667   \n",
       "3  0.640000  0.626667  0.626667  0.626667  0.640000  0.653333  0.653333   \n",
       "4  0.693333  0.666667  0.666667  0.666667  0.693333  0.640000  0.640000   \n",
       "\n",
       "         ls  \n",
       "0  0.520000  \n",
       "1  0.466667  \n",
       "2  0.626667  \n",
       "3  0.653333  \n",
       "4  0.640000  \n",
       "\n",
       "[5 rows x 109 columns]"
      ]
     },
     "execution_count": 100,
     "metadata": {},
     "output_type": "execute_result"
    }
   ],
   "source": [
    "transformer = MinMaxScaler().fit(X_train_num) \n",
    "X_train_scaled_arr = transformer.transform(X_train_num)\n",
    "X_train_scaled = pd.DataFrame(X_train_scaled_arr, columns=X_train_num.columns)\n",
    "X_train_scaled.head()"
   ]
  },
  {
   "cell_type": "code",
   "execution_count": 101,
   "id": "ebc27e6c",
   "metadata": {},
   "outputs": [
    {
     "data": {
      "text/html": [
       "<div>\n",
       "<style scoped>\n",
       "    .dataframe tbody tr th:only-of-type {\n",
       "        vertical-align: middle;\n",
       "    }\n",
       "\n",
       "    .dataframe tbody tr th {\n",
       "        vertical-align: top;\n",
       "    }\n",
       "\n",
       "    .dataframe thead th {\n",
       "        text-align: right;\n",
       "    }\n",
       "</style>\n",
       "<table border=\"1\" class=\"dataframe\">\n",
       "  <thead>\n",
       "    <tr style=\"text-align: right;\">\n",
       "      <th></th>\n",
       "      <th>bp_forward</th>\n",
       "      <th>bp_goalkeeper</th>\n",
       "      <th>bp_midfielder</th>\n",
       "      <th>foot_Right</th>\n",
       "      <th>a/w_Low</th>\n",
       "      <th>a/w_Medium</th>\n",
       "      <th>d/w_Low</th>\n",
       "      <th>d/w_Medium</th>\n",
       "    </tr>\n",
       "  </thead>\n",
       "  <tbody>\n",
       "    <tr>\n",
       "      <th>0</th>\n",
       "      <td>1.0</td>\n",
       "      <td>0.0</td>\n",
       "      <td>0.0</td>\n",
       "      <td>0.0</td>\n",
       "      <td>0.0</td>\n",
       "      <td>0.0</td>\n",
       "      <td>0.0</td>\n",
       "      <td>1.0</td>\n",
       "    </tr>\n",
       "    <tr>\n",
       "      <th>1</th>\n",
       "      <td>0.0</td>\n",
       "      <td>0.0</td>\n",
       "      <td>0.0</td>\n",
       "      <td>1.0</td>\n",
       "      <td>0.0</td>\n",
       "      <td>0.0</td>\n",
       "      <td>0.0</td>\n",
       "      <td>1.0</td>\n",
       "    </tr>\n",
       "    <tr>\n",
       "      <th>2</th>\n",
       "      <td>0.0</td>\n",
       "      <td>0.0</td>\n",
       "      <td>1.0</td>\n",
       "      <td>1.0</td>\n",
       "      <td>0.0</td>\n",
       "      <td>1.0</td>\n",
       "      <td>0.0</td>\n",
       "      <td>1.0</td>\n",
       "    </tr>\n",
       "    <tr>\n",
       "      <th>3</th>\n",
       "      <td>1.0</td>\n",
       "      <td>0.0</td>\n",
       "      <td>0.0</td>\n",
       "      <td>1.0</td>\n",
       "      <td>0.0</td>\n",
       "      <td>0.0</td>\n",
       "      <td>0.0</td>\n",
       "      <td>1.0</td>\n",
       "    </tr>\n",
       "    <tr>\n",
       "      <th>4</th>\n",
       "      <td>0.0</td>\n",
       "      <td>0.0</td>\n",
       "      <td>1.0</td>\n",
       "      <td>1.0</td>\n",
       "      <td>0.0</td>\n",
       "      <td>1.0</td>\n",
       "      <td>0.0</td>\n",
       "      <td>1.0</td>\n",
       "    </tr>\n",
       "  </tbody>\n",
       "</table>\n",
       "</div>"
      ],
      "text/plain": [
       "   bp_forward  bp_goalkeeper  bp_midfielder  foot_Right  a/w_Low  a/w_Medium  \\\n",
       "0         1.0            0.0            0.0         0.0      0.0         0.0   \n",
       "1         0.0            0.0            0.0         1.0      0.0         0.0   \n",
       "2         0.0            0.0            1.0         1.0      0.0         1.0   \n",
       "3         1.0            0.0            0.0         1.0      0.0         0.0   \n",
       "4         0.0            0.0            1.0         1.0      0.0         1.0   \n",
       "\n",
       "   d/w_Low  d/w_Medium  \n",
       "0      0.0         1.0  \n",
       "1      0.0         1.0  \n",
       "2      0.0         1.0  \n",
       "3      0.0         1.0  \n",
       "4      0.0         1.0  "
      ]
     },
     "execution_count": 101,
     "metadata": {},
     "output_type": "execute_result"
    }
   ],
   "source": [
    "from sklearn.preprocessing import OneHotEncoder\n",
    "encoder = OneHotEncoder(drop='first').fit(X_train_cat)\n",
    "encoded_cat = encoder.transform(X_train_cat).toarray()\n",
    "cols = encoder.get_feature_names_out(input_features=X_train_cat.columns)\n",
    "# Note: in version 1.0 and higher of sklearn this method is called 'get_feature_names_out()'\n",
    "# we will reuse encoder and cols when encoding the X_test_cat\n",
    "onehot_encoded = pd.DataFrame(encoded_cat, columns=cols)\n",
    "onehot_encoded.head()"
   ]
  },
  {
   "cell_type": "code",
   "execution_count": 102,
   "id": "5b35afad",
   "metadata": {},
   "outputs": [],
   "source": [
    "X_train_treated = pd.concat([X_train_scaled, onehot_encoded], axis=1)"
   ]
  },
  {
   "cell_type": "code",
   "execution_count": 103,
   "id": "4a79fffa",
   "metadata": {},
   "outputs": [
    {
     "data": {
      "text/plain": [
       "LinearRegression()"
      ]
     },
     "execution_count": 103,
     "metadata": {},
     "output_type": "execute_result"
    }
   ],
   "source": [
    "from sklearn import linear_model\n",
    "classification = linear_model.LinearRegression()\n",
    "classification.fit(X_train_treated, y_train)"
   ]
  },
  {
   "cell_type": "code",
   "execution_count": 104,
   "id": "aa04e39c",
   "metadata": {},
   "outputs": [
    {
     "data": {
      "text/html": [
       "<div>\n",
       "<style scoped>\n",
       "    .dataframe tbody tr th:only-of-type {\n",
       "        vertical-align: middle;\n",
       "    }\n",
       "\n",
       "    .dataframe tbody tr th {\n",
       "        vertical-align: top;\n",
       "    }\n",
       "\n",
       "    .dataframe thead th {\n",
       "        text-align: right;\n",
       "    }\n",
       "</style>\n",
       "<table border=\"1\" class=\"dataframe\">\n",
       "  <thead>\n",
       "    <tr style=\"text-align: right;\">\n",
       "      <th></th>\n",
       "      <th>growth</th>\n",
       "      <th>value</th>\n",
       "      <th>attacking</th>\n",
       "      <th>crossing</th>\n",
       "      <th>finishing</th>\n",
       "      <th>heading accuracy</th>\n",
       "      <th>short passing</th>\n",
       "      <th>volleys</th>\n",
       "      <th>skill</th>\n",
       "      <th>dribbling</th>\n",
       "      <th>...</th>\n",
       "      <th>cam</th>\n",
       "      <th>lam</th>\n",
       "      <th>rw</th>\n",
       "      <th>rf</th>\n",
       "      <th>cf</th>\n",
       "      <th>lf</th>\n",
       "      <th>lw</th>\n",
       "      <th>rs</th>\n",
       "      <th>st</th>\n",
       "      <th>ls</th>\n",
       "    </tr>\n",
       "  </thead>\n",
       "  <tbody>\n",
       "    <tr>\n",
       "      <th>0</th>\n",
       "      <td>0.230769</td>\n",
       "      <td>0.048276</td>\n",
       "      <td>0.663291</td>\n",
       "      <td>0.693182</td>\n",
       "      <td>0.652174</td>\n",
       "      <td>0.511364</td>\n",
       "      <td>0.759036</td>\n",
       "      <td>0.541176</td>\n",
       "      <td>0.756281</td>\n",
       "      <td>0.761364</td>\n",
       "      <td>...</td>\n",
       "      <td>0.753425</td>\n",
       "      <td>0.753425</td>\n",
       "      <td>0.746667</td>\n",
       "      <td>0.706667</td>\n",
       "      <td>0.706667</td>\n",
       "      <td>0.706667</td>\n",
       "      <td>0.746667</td>\n",
       "      <td>0.666667</td>\n",
       "      <td>0.666667</td>\n",
       "      <td>0.666667</td>\n",
       "    </tr>\n",
       "    <tr>\n",
       "      <th>1</th>\n",
       "      <td>0.307692</td>\n",
       "      <td>0.010920</td>\n",
       "      <td>0.594937</td>\n",
       "      <td>0.488636</td>\n",
       "      <td>0.619565</td>\n",
       "      <td>0.511364</td>\n",
       "      <td>0.662651</td>\n",
       "      <td>0.564706</td>\n",
       "      <td>0.592965</td>\n",
       "      <td>0.738636</td>\n",
       "      <td>...</td>\n",
       "      <td>0.684932</td>\n",
       "      <td>0.684932</td>\n",
       "      <td>0.680000</td>\n",
       "      <td>0.653333</td>\n",
       "      <td>0.653333</td>\n",
       "      <td>0.653333</td>\n",
       "      <td>0.680000</td>\n",
       "      <td>0.600000</td>\n",
       "      <td>0.600000</td>\n",
       "      <td>0.600000</td>\n",
       "    </tr>\n",
       "    <tr>\n",
       "      <th>2</th>\n",
       "      <td>0.000000</td>\n",
       "      <td>0.026437</td>\n",
       "      <td>0.653165</td>\n",
       "      <td>0.659091</td>\n",
       "      <td>0.347826</td>\n",
       "      <td>0.806818</td>\n",
       "      <td>0.771084</td>\n",
       "      <td>0.541176</td>\n",
       "      <td>0.678392</td>\n",
       "      <td>0.454545</td>\n",
       "      <td>...</td>\n",
       "      <td>0.561644</td>\n",
       "      <td>0.561644</td>\n",
       "      <td>0.506667</td>\n",
       "      <td>0.506667</td>\n",
       "      <td>0.506667</td>\n",
       "      <td>0.506667</td>\n",
       "      <td>0.506667</td>\n",
       "      <td>0.506667</td>\n",
       "      <td>0.506667</td>\n",
       "      <td>0.506667</td>\n",
       "    </tr>\n",
       "    <tr>\n",
       "      <th>3</th>\n",
       "      <td>0.538462</td>\n",
       "      <td>0.057471</td>\n",
       "      <td>0.675949</td>\n",
       "      <td>0.670455</td>\n",
       "      <td>0.673913</td>\n",
       "      <td>0.522727</td>\n",
       "      <td>0.650602</td>\n",
       "      <td>0.694118</td>\n",
       "      <td>0.668342</td>\n",
       "      <td>0.818182</td>\n",
       "      <td>...</td>\n",
       "      <td>0.712329</td>\n",
       "      <td>0.712329</td>\n",
       "      <td>0.760000</td>\n",
       "      <td>0.720000</td>\n",
       "      <td>0.720000</td>\n",
       "      <td>0.720000</td>\n",
       "      <td>0.760000</td>\n",
       "      <td>0.693333</td>\n",
       "      <td>0.693333</td>\n",
       "      <td>0.693333</td>\n",
       "    </tr>\n",
       "    <tr>\n",
       "      <th>4</th>\n",
       "      <td>0.000000</td>\n",
       "      <td>0.034483</td>\n",
       "      <td>0.501266</td>\n",
       "      <td>0.454545</td>\n",
       "      <td>0.293478</td>\n",
       "      <td>0.750000</td>\n",
       "      <td>0.674699</td>\n",
       "      <td>0.258824</td>\n",
       "      <td>0.482412</td>\n",
       "      <td>0.590909</td>\n",
       "      <td>...</td>\n",
       "      <td>0.506849</td>\n",
       "      <td>0.506849</td>\n",
       "      <td>0.506667</td>\n",
       "      <td>0.480000</td>\n",
       "      <td>0.480000</td>\n",
       "      <td>0.480000</td>\n",
       "      <td>0.506667</td>\n",
       "      <td>0.480000</td>\n",
       "      <td>0.480000</td>\n",
       "      <td>0.480000</td>\n",
       "    </tr>\n",
       "  </tbody>\n",
       "</table>\n",
       "<p>5 rows × 109 columns</p>\n",
       "</div>"
      ],
      "text/plain": [
       "     growth     value  attacking  crossing  finishing  heading accuracy  \\\n",
       "0  0.230769  0.048276   0.663291  0.693182   0.652174          0.511364   \n",
       "1  0.307692  0.010920   0.594937  0.488636   0.619565          0.511364   \n",
       "2  0.000000  0.026437   0.653165  0.659091   0.347826          0.806818   \n",
       "3  0.538462  0.057471   0.675949  0.670455   0.673913          0.522727   \n",
       "4  0.000000  0.034483   0.501266  0.454545   0.293478          0.750000   \n",
       "\n",
       "   short passing   volleys     skill  dribbling  ...       cam       lam  \\\n",
       "0       0.759036  0.541176  0.756281   0.761364  ...  0.753425  0.753425   \n",
       "1       0.662651  0.564706  0.592965   0.738636  ...  0.684932  0.684932   \n",
       "2       0.771084  0.541176  0.678392   0.454545  ...  0.561644  0.561644   \n",
       "3       0.650602  0.694118  0.668342   0.818182  ...  0.712329  0.712329   \n",
       "4       0.674699  0.258824  0.482412   0.590909  ...  0.506849  0.506849   \n",
       "\n",
       "         rw        rf        cf        lf        lw        rs        st  \\\n",
       "0  0.746667  0.706667  0.706667  0.706667  0.746667  0.666667  0.666667   \n",
       "1  0.680000  0.653333  0.653333  0.653333  0.680000  0.600000  0.600000   \n",
       "2  0.506667  0.506667  0.506667  0.506667  0.506667  0.506667  0.506667   \n",
       "3  0.760000  0.720000  0.720000  0.720000  0.760000  0.693333  0.693333   \n",
       "4  0.506667  0.480000  0.480000  0.480000  0.506667  0.480000  0.480000   \n",
       "\n",
       "         ls  \n",
       "0  0.666667  \n",
       "1  0.600000  \n",
       "2  0.506667  \n",
       "3  0.693333  \n",
       "4  0.480000  \n",
       "\n",
       "[5 rows x 109 columns]"
      ]
     },
     "execution_count": 104,
     "metadata": {},
     "output_type": "execute_result"
    }
   ],
   "source": [
    "X_test_scaled_arr = transformer.transform(X_test_num)\n",
    "X_test_scaled = pd.DataFrame(X_test_scaled_arr, columns=X_test_num.columns)\n",
    "X_test_scaled.head()"
   ]
  },
  {
   "cell_type": "code",
   "execution_count": 105,
   "id": "0e5ea81b",
   "metadata": {},
   "outputs": [
    {
     "data": {
      "text/html": [
       "<div>\n",
       "<style scoped>\n",
       "    .dataframe tbody tr th:only-of-type {\n",
       "        vertical-align: middle;\n",
       "    }\n",
       "\n",
       "    .dataframe tbody tr th {\n",
       "        vertical-align: top;\n",
       "    }\n",
       "\n",
       "    .dataframe thead th {\n",
       "        text-align: right;\n",
       "    }\n",
       "</style>\n",
       "<table border=\"1\" class=\"dataframe\">\n",
       "  <thead>\n",
       "    <tr style=\"text-align: right;\">\n",
       "      <th></th>\n",
       "      <th>bp_forward</th>\n",
       "      <th>bp_goalkeeper</th>\n",
       "      <th>bp_midfielder</th>\n",
       "      <th>foot_Right</th>\n",
       "      <th>a/w_Low</th>\n",
       "      <th>a/w_Medium</th>\n",
       "      <th>d/w_Low</th>\n",
       "      <th>d/w_Medium</th>\n",
       "    </tr>\n",
       "  </thead>\n",
       "  <tbody>\n",
       "    <tr>\n",
       "      <th>0</th>\n",
       "      <td>0.0</td>\n",
       "      <td>0.0</td>\n",
       "      <td>1.0</td>\n",
       "      <td>1.0</td>\n",
       "      <td>0.0</td>\n",
       "      <td>1.0</td>\n",
       "      <td>0.0</td>\n",
       "      <td>1.0</td>\n",
       "    </tr>\n",
       "    <tr>\n",
       "      <th>1</th>\n",
       "      <td>0.0</td>\n",
       "      <td>0.0</td>\n",
       "      <td>1.0</td>\n",
       "      <td>1.0</td>\n",
       "      <td>0.0</td>\n",
       "      <td>0.0</td>\n",
       "      <td>1.0</td>\n",
       "      <td>0.0</td>\n",
       "    </tr>\n",
       "    <tr>\n",
       "      <th>2</th>\n",
       "      <td>0.0</td>\n",
       "      <td>0.0</td>\n",
       "      <td>0.0</td>\n",
       "      <td>0.0</td>\n",
       "      <td>0.0</td>\n",
       "      <td>1.0</td>\n",
       "      <td>0.0</td>\n",
       "      <td>1.0</td>\n",
       "    </tr>\n",
       "    <tr>\n",
       "      <th>3</th>\n",
       "      <td>0.0</td>\n",
       "      <td>0.0</td>\n",
       "      <td>1.0</td>\n",
       "      <td>1.0</td>\n",
       "      <td>0.0</td>\n",
       "      <td>0.0</td>\n",
       "      <td>0.0</td>\n",
       "      <td>1.0</td>\n",
       "    </tr>\n",
       "    <tr>\n",
       "      <th>4</th>\n",
       "      <td>0.0</td>\n",
       "      <td>0.0</td>\n",
       "      <td>0.0</td>\n",
       "      <td>1.0</td>\n",
       "      <td>1.0</td>\n",
       "      <td>0.0</td>\n",
       "      <td>0.0</td>\n",
       "      <td>1.0</td>\n",
       "    </tr>\n",
       "  </tbody>\n",
       "</table>\n",
       "</div>"
      ],
      "text/plain": [
       "   bp_forward  bp_goalkeeper  bp_midfielder  foot_Right  a/w_Low  a/w_Medium  \\\n",
       "0         0.0            0.0            1.0         1.0      0.0         1.0   \n",
       "1         0.0            0.0            1.0         1.0      0.0         0.0   \n",
       "2         0.0            0.0            0.0         0.0      0.0         1.0   \n",
       "3         0.0            0.0            1.0         1.0      0.0         0.0   \n",
       "4         0.0            0.0            0.0         1.0      1.0         0.0   \n",
       "\n",
       "   d/w_Low  d/w_Medium  \n",
       "0      0.0         1.0  \n",
       "1      1.0         0.0  \n",
       "2      0.0         1.0  \n",
       "3      0.0         1.0  \n",
       "4      0.0         1.0  "
      ]
     },
     "execution_count": 105,
     "metadata": {},
     "output_type": "execute_result"
    }
   ],
   "source": [
    "encoded_test_cat = encoder.transform(X_test_cat).toarray()\n",
    "onehot_encoded_test = pd.DataFrame(encoded_test_cat, columns=cols)\n",
    "onehot_encoded_test.head()"
   ]
  },
  {
   "cell_type": "code",
   "execution_count": 106,
   "id": "ea0a0004",
   "metadata": {},
   "outputs": [],
   "source": [
    "X_test_treated = pd.concat([X_test_scaled, onehot_encoded_test], axis=1)"
   ]
  },
  {
   "cell_type": "code",
   "execution_count": 107,
   "id": "a0d7ee3e",
   "metadata": {},
   "outputs": [
    {
     "data": {
      "text/plain": [
       "0.9219251581099903"
      ]
     },
     "execution_count": 107,
     "metadata": {},
     "output_type": "execute_result"
    }
   ],
   "source": [
    "predictions = classification.predict(X_test_treated)\n",
    "predictions\n",
    "classification.score(X_test_treated, y_test)"
   ]
  },
  {
   "cell_type": "code",
   "execution_count": 108,
   "id": "cd089b9f",
   "metadata": {},
   "outputs": [],
   "source": [
    "from sklearn.metrics import mean_squared_error"
   ]
  },
  {
   "cell_type": "code",
   "execution_count": 109,
   "id": "7a243d6e",
   "metadata": {},
   "outputs": [
    {
     "data": {
      "text/plain": [
       "1.9209"
      ]
     },
     "execution_count": 109,
     "metadata": {},
     "output_type": "execute_result"
    }
   ],
   "source": [
    "rmse = round(np.sqrt(mean_squared_error(y_test, predictions)), 4)  # Previous rmse was 2.2675\n",
    "rmse"
   ]
  },
  {
   "cell_type": "code",
   "execution_count": null,
   "id": "16be5d54",
   "metadata": {},
   "outputs": [],
   "source": []
  }
 ],
 "metadata": {
  "kernelspec": {
   "display_name": "Python 3 (ipykernel)",
   "language": "python",
   "name": "python3"
  },
  "language_info": {
   "codemirror_mode": {
    "name": "ipython",
    "version": 3
   },
   "file_extension": ".py",
   "mimetype": "text/x-python",
   "name": "python",
   "nbconvert_exporter": "python",
   "pygments_lexer": "ipython3",
   "version": "3.9.13"
  }
 },
 "nbformat": 4,
 "nbformat_minor": 5
}
