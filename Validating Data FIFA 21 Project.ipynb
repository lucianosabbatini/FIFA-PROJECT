{
 "cells": [
  {
   "cell_type": "markdown",
   "id": "75e90add",
   "metadata": {},
   "source": [
    "## Running the clean function"
   ]
  },
  {
   "cell_type": "code",
   "execution_count": 1,
   "id": "483a557b",
   "metadata": {},
   "outputs": [],
   "source": [
    "def clean_data(df):\n",
    "    cols = [] # Making all columns lower case\n",
    "    for column in df.columns:\n",
    "        cols.append(column.lower())\n",
    "    cols\n",
    "    df.columns = cols \n",
    "    df=df.drop(['id', 'age', 'growth'], axis=1) # droping irrelevant columns\n",
    "    df=df[df['volleys'].isna()==False] # filling all the nulls\n",
    "    df['composure'].fillna(df['composure'].median(), inplace=True)\n",
    "    df_to_clean = ['gk', 'rb', 'rcb', 'cb', 'lcb', 'lb', 'rwb', 'rdm', 'cdm', 'ldm', 'lwb', 'rm', 'rcm', 'cm', 'lcm', 'lm', 'ram', 'cam', 'lam', 'rw', 'rf', 'cf', 'lf', 'lw', 'rs', 'st', 'ls'] #ating all the categoricals columns that I want to convert into numerical that is required for the prediction model \n",
    "    for col in df_to_clean:\n",
    "        df[col] = df[col].str.split('+').str[0]\n",
    "        df[col] = df[col].str.split('-').str[0]\n",
    "    df[df_to_clean]= df[df_to_clean].apply(pd.to_numeric)\n",
    "    df=pd.concat([df, df[df_to_clean]], axis=1)\n",
    "    df=df.select_dtypes(include=np.number) # attributing all the cleaned data and only the numerical columns to a variable\n",
    "    \n",
    "    return df\n",
    "\n",
    "    "
   ]
  },
  {
   "cell_type": "code",
   "execution_count": 2,
   "id": "354695f7",
   "metadata": {},
   "outputs": [],
   "source": [
    "import pandas as pd\n",
    "import numpy as np\n",
    "from sklearn.preprocessing import MinMaxScaler\n",
    "from sklearn.model_selection import train_test_split\n",
    "from sklearn import linear_model\n",
    "from sklearn.metrics import mean_squared_error\n",
    "from sklearn.metrics import r2_score \n",
    "import pickle"
   ]
  },
  {
   "cell_type": "code",
   "execution_count": 3,
   "id": "5e378a0b",
   "metadata": {},
   "outputs": [],
   "source": [
    "df=pd.read_csv('fifa21_validate.csv')"
   ]
  },
  {
   "cell_type": "code",
   "execution_count": 4,
   "id": "4e032be2",
   "metadata": {
    "scrolled": true
   },
   "outputs": [],
   "source": [
    "df=clean_data(df)"
   ]
  },
  {
   "cell_type": "code",
   "execution_count": 5,
   "id": "49530f92",
   "metadata": {},
   "outputs": [
    {
     "data": {
      "text/plain": [
       "Index(['attacking', 'crossing', 'finishing', 'heading accuracy',\n",
       "       'short passing', 'volleys', 'skill', 'dribbling', 'curve',\n",
       "       'fk accuracy',\n",
       "       ...\n",
       "       'cam', 'lam', 'rw', 'rf', 'cf', 'lf', 'lw', 'rs', 'st', 'ls'],\n",
       "      dtype='object', length=104)"
      ]
     },
     "metadata": {},
     "output_type": "display_data"
    },
    {
     "data": {
      "text/plain": [
       "(1996, 104)"
      ]
     },
     "metadata": {},
     "output_type": "display_data"
    }
   ],
   "source": [
    "display(df.columns)\n",
    "display(df.shape)"
   ]
  },
  {
   "cell_type": "markdown",
   "id": "9fdcf60c",
   "metadata": {},
   "source": [
    "## It has the same columns as my trained model. \n",
    "## Assigning new X-y Split"
   ]
  },
  {
   "cell_type": "code",
   "execution_count": 6,
   "id": "c6583269",
   "metadata": {},
   "outputs": [],
   "source": [
    "y=df['ova']\n",
    "X = df.drop(['ova'], axis=1)"
   ]
  },
  {
   "cell_type": "markdown",
   "id": "7041a465",
   "metadata": {},
   "source": [
    "## Normalizing the new dataframe with same method"
   ]
  },
  {
   "cell_type": "code",
   "execution_count": 7,
   "id": "8f2c4f70",
   "metadata": {},
   "outputs": [],
   "source": [
    "transformer=pickle.load(open('minmaxtransformer.p', 'rb'))\n"
   ]
  },
  {
   "cell_type": "code",
   "execution_count": 8,
   "id": "c6c2e749",
   "metadata": {},
   "outputs": [
    {
     "data": {
      "text/plain": [
       "MinMaxScaler()"
      ]
     },
     "execution_count": 8,
     "metadata": {},
     "output_type": "execute_result"
    }
   ],
   "source": [
    "transformer"
   ]
  },
  {
   "cell_type": "code",
   "execution_count": 9,
   "id": "0eeafbc4",
   "metadata": {},
   "outputs": [],
   "source": [
    "x_normalized = transformer.transform(X)\n",
    "df=pd.DataFrame(x_normalized, columns=X.columns)"
   ]
  },
  {
   "cell_type": "markdown",
   "id": "7c5238f1",
   "metadata": {},
   "source": [
    "## Loading the fitted model and applying to the new X/y values"
   ]
  },
  {
   "cell_type": "code",
   "execution_count": 10,
   "id": "cde2267f",
   "metadata": {},
   "outputs": [],
   "source": [
    "lm=pickle.load(open('model.p', 'rb'))"
   ]
  },
  {
   "cell_type": "code",
   "execution_count": 11,
   "id": "a608bdbb",
   "metadata": {},
   "outputs": [
    {
     "data": {
      "text/plain": [
       "LinearRegression()"
      ]
     },
     "execution_count": 11,
     "metadata": {},
     "output_type": "execute_result"
    }
   ],
   "source": [
    "lm"
   ]
  },
  {
   "cell_type": "code",
   "execution_count": 12,
   "id": "9e34ebd0",
   "metadata": {
    "scrolled": true
   },
   "outputs": [
    {
     "data": {
      "text/plain": [
       "0.8879338065185125"
      ]
     },
     "execution_count": 12,
     "metadata": {},
     "output_type": "execute_result"
    }
   ],
   "source": [
    "predictions_test = lm.predict(X)\n",
    "r2_score(y, predictions_test)"
   ]
  },
  {
   "cell_type": "markdown",
   "id": "94b891a0",
   "metadata": {},
   "source": [
    "## RMSE score for the validation data"
   ]
  },
  {
   "cell_type": "code",
   "execution_count": 13,
   "id": "0186a14d",
   "metadata": {},
   "outputs": [
    {
     "data": {
      "text/plain": [
       "2.2630833675580213"
      ]
     },
     "execution_count": 13,
     "metadata": {},
     "output_type": "execute_result"
    }
   ],
   "source": [
    "rmse = np.sqrt(mean_squared_error(y,predictions_test))  \n",
    "rmse"
   ]
  },
  {
   "cell_type": "code",
   "execution_count": null,
   "id": "6e10c44f",
   "metadata": {},
   "outputs": [],
   "source": []
  }
 ],
 "metadata": {
  "kernelspec": {
   "display_name": "Python 3 (ipykernel)",
   "language": "python",
   "name": "python3"
  },
  "language_info": {
   "codemirror_mode": {
    "name": "ipython",
    "version": 3
   },
   "file_extension": ".py",
   "mimetype": "text/x-python",
   "name": "python",
   "nbconvert_exporter": "python",
   "pygments_lexer": "ipython3",
   "version": "3.9.13"
  }
 },
 "nbformat": 4,
 "nbformat_minor": 5
}
